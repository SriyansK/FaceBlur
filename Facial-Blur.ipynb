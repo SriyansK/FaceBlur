{
 "cells": [
  {
   "cell_type": "code",
   "execution_count": 6,
   "metadata": {},
   "outputs": [],
   "source": [
    "import cv2\n",
    "import numpy as np\n",
    "import matplotlib.pyplot as plt\n",
    "%matplotlib inline"
   ]
  },
  {
   "cell_type": "code",
   "execution_count": 7,
   "metadata": {},
   "outputs": [],
   "source": [
    "face_cascade = cv2.CascadeClassifier('D:/Documents/College/Study Materials/Course/Image Processing/DATA/haarcascades/haarcascade_frontalface_alt.xml')"
   ]
  },
  {
   "cell_type": "code",
   "execution_count": 8,
   "metadata": {},
   "outputs": [],
   "source": [
    "def blur(img,x,y,w,h) :\n",
    "    img_copy = img.copy()\n",
    "    img_copy = img_copy[y:y+h+1,x:x+w+1]\n",
    "    img_copy = cv2.blur(img_copy,(10,10))\n",
    "    img[y:y+h+1,x:x+w+1]=img_copy\n",
    "    return img"
   ]
  },
  {
   "cell_type": "code",
   "execution_count": 9,
   "metadata": {},
   "outputs": [],
   "source": [
    "def find_face(img):\n",
    "    face_img = img.copy()\n",
    "    co_ords = face_cascade.detectMultiScale(face_img,scaleFactor=1.2,minNeighbors=5)\n",
    "    for (x,y,w,h) in co_ords:\n",
    "        cv2.rectangle(face_img,(x,y),(x+w,y+h),(255,255,255),1)\n",
    "        face_img = blur(face_img,x,y,w,h)\n",
    "        font = cv2.FONT_HERSHEY_COMPLEX\n",
    "    return face_img"
   ]
  },
  {
   "cell_type": "code",
   "execution_count": 10,
   "metadata": {},
   "outputs": [],
   "source": [
    "cap = cv2.VideoCapture(0)\n",
    "while True :\n",
    "    ret,frame = cap.read(0)\n",
    "    frame= find_face(frame)\n",
    "    cv2.imshow('Video detect',frame)\n",
    "    k = cv2.waitKey(1)\n",
    "    if k ==27:\n",
    "        break\n",
    "cap.release()\n",
    "cv2.destroyAllWindows()"
   ]
  },
  {
   "cell_type": "code",
   "execution_count": null,
   "metadata": {},
   "outputs": [],
   "source": []
  }
 ],
 "metadata": {
  "kernelspec": {
   "display_name": "Python 3",
   "language": "python",
   "name": "python3"
  },
  "language_info": {
   "codemirror_mode": {
    "name": "ipython",
    "version": 3
   },
   "file_extension": ".py",
   "mimetype": "text/x-python",
   "name": "python",
   "nbconvert_exporter": "python",
   "pygments_lexer": "ipython3",
   "version": "3.6.6-final"
  }
 },
 "nbformat": 4,
 "nbformat_minor": 2
}